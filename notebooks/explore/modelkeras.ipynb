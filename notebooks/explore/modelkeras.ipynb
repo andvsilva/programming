{
 "cells": [
  {
   "cell_type": "code",
   "execution_count": 1,
   "metadata": {},
   "outputs": [
    {
     "name": "stderr",
     "output_type": "stream",
     "text": [
      "2023-12-18 17:03:11.110619: I tensorflow/core/platform/cpu_feature_guard.cc:193] This TensorFlow binary is optimized with oneAPI Deep Neural Network Library (oneDNN) to use the following CPU instructions in performance-critical operations:  AVX2 FMA\n",
      "To enable them in other operations, rebuild TensorFlow with the appropriate compiler flags.\n",
      "2023-12-18 17:03:11.253659: W tensorflow/compiler/xla/stream_executor/platform/default/dso_loader.cc:64] Could not load dynamic library 'libcudart.so.11.0'; dlerror: libcudart.so.11.0: cannot open shared object file: No such file or directory\n",
      "2023-12-18 17:03:11.253680: I tensorflow/compiler/xla/stream_executor/cuda/cudart_stub.cc:29] Ignore above cudart dlerror if you do not have a GPU set up on your machine.\n",
      "2023-12-18 17:03:11.949930: W tensorflow/compiler/xla/stream_executor/platform/default/dso_loader.cc:64] Could not load dynamic library 'libnvinfer.so.7'; dlerror: libnvinfer.so.7: cannot open shared object file: No such file or directory\n",
      "2023-12-18 17:03:11.950188: W tensorflow/compiler/xla/stream_executor/platform/default/dso_loader.cc:64] Could not load dynamic library 'libnvinfer_plugin.so.7'; dlerror: libnvinfer_plugin.so.7: cannot open shared object file: No such file or directory\n",
      "2023-12-18 17:03:11.950203: W tensorflow/compiler/tf2tensorrt/utils/py_utils.cc:38] TF-TRT Warning: Cannot dlopen some TensorRT libraries. If you would like to use Nvidia GPU with TensorRT, please make sure the missing libraries mentioned above are installed properly.\n"
     ]
    },
    {
     "name": "stdout",
     "output_type": "stream",
     "text": [
      "seg 18 dez 2023 17:03:12 -03\n"
     ]
    },
    {
     "data": {
      "text/plain": [
       "0"
      ]
     },
     "execution_count": 1,
     "metadata": {},
     "output_type": "execute_result"
    }
   ],
   "source": [
    "# libraries\n",
    "import pandas as pd\n",
    "import numpy as np\n",
    "import matplotlib.pyplot as plt\n",
    "import seaborn as sns\n",
    "import os\n",
    "import sqlite3\n",
    "%matplotlib inline\n",
    "import plotly.express as px\n",
    "from plotly import graph_objs as go\n",
    "import plotly.figure_factory as ff\n",
    "from time import gmtime, strftime\n",
    "from sklearn.model_selection import cross_val_score\n",
    "\n",
    "# Model\n",
    "# Compare the Logistic Regression Model V.S. Base Rate Model V.S. Random Forest Model\n",
    "from sklearn.metrics import roc_auc_score\n",
    "from sklearn.metrics import classification_report\n",
    "from sklearn.ensemble import RandomForestClassifier\n",
    "\n",
    "from sklearn import tree\n",
    "from matplotlib import pyplot\n",
    "import xgboost as xgb\n",
    "import lightgbm as lgb\n",
    "import tensorflow as tf\n",
    "\n",
    "# Keras specific\n",
    "import tensorflow as tf\n",
    "from tensorflow.keras.datasets import imdb\n",
    "from tensorflow.keras.models import Sequential\n",
    "from tensorflow.keras.layers import Dense, Embedding, LSTM\n",
    "from tensorflow.keras.preprocessing import sequence\n",
    "from tensorflow import keras\n",
    "from tensorflow.keras import layers\n",
    "from tensorflow.keras.callbacks import EarlyStopping\n",
    "\n",
    "from sklearn.model_selection import train_test_split\n",
    "import sklearn.metrics as metrics\n",
    "from sklearn.metrics import mean_absolute_error\n",
    "\n",
    "from sklearn.metrics import accuracy_score\n",
    "from sklearn.metrics import classification_report\n",
    "from sklearn.metrics import precision_score\n",
    "from sklearn.metrics import recall_score, confusion_matrix, precision_recall_curve\n",
    "from sklearn.metrics import roc_curve, ConfusionMatrixDisplay\n",
    "from sklearn import metrics\n",
    "\n",
    "# to balance the dataset \n",
    "from imblearn.over_sampling import SMOTE\n",
    "\n",
    "import warnings\n",
    "warnings.filterwarnings(\"ignore\")\n",
    "\n",
    "import toolkit as tool\n",
    "\n",
    "import os\n",
    "\n",
    "os.system('date')"
   ]
  },
  {
   "cell_type": "markdown",
   "metadata": {},
   "source": [
    "### Objective\n",
    "\n",
    "The data is for company X which is trying to control attrition. There are two sets of data: “Existing employees” and “Employees who have left”. Following attributes are available for every employee.\n",
    " - Satisfaction Level\n",
    " - Last evaluation\n",
    " - Number of projects\n",
    " - Average monthly hours\n",
    " - Time spent at the company\n",
    " - Whether they have had a work accident\n",
    " - Whether they have had a promotion in the last 5 years\n",
    " - Departments (column sales)\n",
    " - Salary\n",
    " - Whether the employee has left"
   ]
  },
  {
   "cell_type": "code",
   "execution_count": 2,
   "metadata": {},
   "outputs": [
    {
     "data": {
      "text/html": [
       "<div>\n",
       "<style scoped>\n",
       "    .dataframe tbody tr th:only-of-type {\n",
       "        vertical-align: middle;\n",
       "    }\n",
       "\n",
       "    .dataframe tbody tr th {\n",
       "        vertical-align: top;\n",
       "    }\n",
       "\n",
       "    .dataframe thead th {\n",
       "        text-align: right;\n",
       "    }\n",
       "</style>\n",
       "<table border=\"1\" class=\"dataframe\">\n",
       "  <thead>\n",
       "    <tr style=\"text-align: right;\">\n",
       "      <th></th>\n",
       "      <th>Emp ID</th>\n",
       "      <th>satisfaction</th>\n",
       "      <th>evaluation</th>\n",
       "      <th>projectCount</th>\n",
       "      <th>averageMonthlyHours</th>\n",
       "      <th>yearsAtCompany</th>\n",
       "      <th>workAccident</th>\n",
       "      <th>turnover</th>\n",
       "      <th>promotion</th>\n",
       "      <th>dept</th>\n",
       "      <th>salary</th>\n",
       "    </tr>\n",
       "  </thead>\n",
       "  <tbody>\n",
       "    <tr>\n",
       "      <th>0</th>\n",
       "      <td>1</td>\n",
       "      <td>0.38</td>\n",
       "      <td>0.53</td>\n",
       "      <td>2</td>\n",
       "      <td>157</td>\n",
       "      <td>3</td>\n",
       "      <td>0</td>\n",
       "      <td>1</td>\n",
       "      <td>0</td>\n",
       "      <td>7</td>\n",
       "      <td>1</td>\n",
       "    </tr>\n",
       "    <tr>\n",
       "      <th>1</th>\n",
       "      <td>2</td>\n",
       "      <td>0.80</td>\n",
       "      <td>0.86</td>\n",
       "      <td>5</td>\n",
       "      <td>262</td>\n",
       "      <td>6</td>\n",
       "      <td>0</td>\n",
       "      <td>1</td>\n",
       "      <td>0</td>\n",
       "      <td>7</td>\n",
       "      <td>2</td>\n",
       "    </tr>\n",
       "    <tr>\n",
       "      <th>2</th>\n",
       "      <td>3</td>\n",
       "      <td>0.11</td>\n",
       "      <td>0.88</td>\n",
       "      <td>7</td>\n",
       "      <td>272</td>\n",
       "      <td>4</td>\n",
       "      <td>0</td>\n",
       "      <td>1</td>\n",
       "      <td>0</td>\n",
       "      <td>7</td>\n",
       "      <td>2</td>\n",
       "    </tr>\n",
       "    <tr>\n",
       "      <th>3</th>\n",
       "      <td>4</td>\n",
       "      <td>0.72</td>\n",
       "      <td>0.87</td>\n",
       "      <td>5</td>\n",
       "      <td>223</td>\n",
       "      <td>5</td>\n",
       "      <td>0</td>\n",
       "      <td>1</td>\n",
       "      <td>0</td>\n",
       "      <td>7</td>\n",
       "      <td>1</td>\n",
       "    </tr>\n",
       "    <tr>\n",
       "      <th>4</th>\n",
       "      <td>5</td>\n",
       "      <td>0.37</td>\n",
       "      <td>0.52</td>\n",
       "      <td>2</td>\n",
       "      <td>159</td>\n",
       "      <td>3</td>\n",
       "      <td>0</td>\n",
       "      <td>1</td>\n",
       "      <td>0</td>\n",
       "      <td>7</td>\n",
       "      <td>1</td>\n",
       "    </tr>\n",
       "    <tr>\n",
       "      <th>...</th>\n",
       "      <td>...</td>\n",
       "      <td>...</td>\n",
       "      <td>...</td>\n",
       "      <td>...</td>\n",
       "      <td>...</td>\n",
       "      <td>...</td>\n",
       "      <td>...</td>\n",
       "      <td>...</td>\n",
       "      <td>...</td>\n",
       "      <td>...</td>\n",
       "      <td>...</td>\n",
       "    </tr>\n",
       "    <tr>\n",
       "      <th>95</th>\n",
       "      <td>96</td>\n",
       "      <td>0.37</td>\n",
       "      <td>0.51</td>\n",
       "      <td>2</td>\n",
       "      <td>155</td>\n",
       "      <td>3</td>\n",
       "      <td>0</td>\n",
       "      <td>1</td>\n",
       "      <td>0</td>\n",
       "      <td>7</td>\n",
       "      <td>1</td>\n",
       "    </tr>\n",
       "    <tr>\n",
       "      <th>96</th>\n",
       "      <td>97</td>\n",
       "      <td>0.10</td>\n",
       "      <td>0.77</td>\n",
       "      <td>6</td>\n",
       "      <td>265</td>\n",
       "      <td>4</td>\n",
       "      <td>0</td>\n",
       "      <td>1</td>\n",
       "      <td>0</td>\n",
       "      <td>7</td>\n",
       "      <td>1</td>\n",
       "    </tr>\n",
       "    <tr>\n",
       "      <th>97</th>\n",
       "      <td>98</td>\n",
       "      <td>0.10</td>\n",
       "      <td>0.84</td>\n",
       "      <td>6</td>\n",
       "      <td>279</td>\n",
       "      <td>4</td>\n",
       "      <td>0</td>\n",
       "      <td>1</td>\n",
       "      <td>0</td>\n",
       "      <td>7</td>\n",
       "      <td>1</td>\n",
       "    </tr>\n",
       "    <tr>\n",
       "      <th>98</th>\n",
       "      <td>99</td>\n",
       "      <td>0.11</td>\n",
       "      <td>0.97</td>\n",
       "      <td>6</td>\n",
       "      <td>284</td>\n",
       "      <td>4</td>\n",
       "      <td>0</td>\n",
       "      <td>1</td>\n",
       "      <td>0</td>\n",
       "      <td>7</td>\n",
       "      <td>1</td>\n",
       "    </tr>\n",
       "    <tr>\n",
       "      <th>99</th>\n",
       "      <td>100</td>\n",
       "      <td>0.90</td>\n",
       "      <td>1.00</td>\n",
       "      <td>5</td>\n",
       "      <td>221</td>\n",
       "      <td>6</td>\n",
       "      <td>0</td>\n",
       "      <td>1</td>\n",
       "      <td>0</td>\n",
       "      <td>7</td>\n",
       "      <td>2</td>\n",
       "    </tr>\n",
       "  </tbody>\n",
       "</table>\n",
       "<p>100 rows × 11 columns</p>\n",
       "</div>"
      ],
      "text/plain": [
       "    Emp ID  satisfaction  evaluation  projectCount  averageMonthlyHours  \\\n",
       "0        1          0.38        0.53             2                  157   \n",
       "1        2          0.80        0.86             5                  262   \n",
       "2        3          0.11        0.88             7                  272   \n",
       "3        4          0.72        0.87             5                  223   \n",
       "4        5          0.37        0.52             2                  159   \n",
       "..     ...           ...         ...           ...                  ...   \n",
       "95      96          0.37        0.51             2                  155   \n",
       "96      97          0.10        0.77             6                  265   \n",
       "97      98          0.10        0.84             6                  279   \n",
       "98      99          0.11        0.97             6                  284   \n",
       "99     100          0.90        1.00             5                  221   \n",
       "\n",
       "    yearsAtCompany  workAccident  turnover  promotion  dept  salary  \n",
       "0                3             0         1          0     7       1  \n",
       "1                6             0         1          0     7       2  \n",
       "2                4             0         1          0     7       2  \n",
       "3                5             0         1          0     7       1  \n",
       "4                3             0         1          0     7       1  \n",
       "..             ...           ...       ...        ...   ...     ...  \n",
       "95               3             0         1          0     7       1  \n",
       "96               4             0         1          0     7       1  \n",
       "97               4             0         1          0     7       1  \n",
       "98               4             0         1          0     7       1  \n",
       "99               6             0         1          0     7       2  \n",
       "\n",
       "[100 rows x 11 columns]"
      ]
     },
     "execution_count": 2,
     "metadata": {},
     "output_type": "execute_result"
    }
   ],
   "source": [
    "# loading dataset.\n",
    "df = pd.read_csv('../datasets/HR_COM1_tomodel.csv')\n",
    "df.head(100)"
   ]
  },
  {
   "cell_type": "code",
   "execution_count": 3,
   "metadata": {},
   "outputs": [
    {
     "name": "stdout",
     "output_type": "stream",
     "text": [
      "Dataset rows = 14999 and columns = 11.\n"
     ]
    }
   ],
   "source": [
    "shape_rows = df.shape[0]\n",
    "shape_columns = df.shape[1]\n",
    "\n",
    "print(f'Dataset rows = {shape_rows} and columns = {shape_columns}.')"
   ]
  },
  {
   "cell_type": "markdown",
   "metadata": {},
   "source": [
    "### X and y "
   ]
  },
  {
   "cell_type": "code",
   "execution_count": 4,
   "metadata": {},
   "outputs": [],
   "source": [
    "# Set the input X to the K-Means.\n",
    "X = df.drop(columns=['turnover', 'Emp ID'])\n",
    "y = df['turnover']"
   ]
  },
  {
   "cell_type": "markdown",
   "metadata": {},
   "source": [
    "### Train and Test features"
   ]
  },
  {
   "cell_type": "code",
   "execution_count": 5,
   "metadata": {},
   "outputs": [],
   "source": [
    "X_train, X_test, y_train, y_test = train_test_split(X,y,test_size=0.15, random_state=123, stratify=y, shuffle = True)"
   ]
  },
  {
   "cell_type": "code",
   "execution_count": 6,
   "metadata": {},
   "outputs": [],
   "source": [
    "# preprocessing technique used to address a class imbalance in a dataset.\n",
    "#sm = SMOTE(random_state=42)\n",
    "#X_train, y_train = sm.fit_resample(X_train, y_train)"
   ]
  },
  {
   "cell_type": "code",
   "execution_count": 7,
   "metadata": {},
   "outputs": [
    {
     "name": "stdout",
     "output_type": "stream",
     "text": [
      "0    76.19%\n",
      "1    23.81%\n",
      "Name: turnover, dtype: object\n"
     ]
    }
   ],
   "source": [
    "print(y_train.value_counts(normalize=True).map('{:.2%}'.format))"
   ]
  },
  {
   "cell_type": "markdown",
   "metadata": {},
   "source": [
    "### Modeling"
   ]
  },
  {
   "cell_type": "code",
   "execution_count": 8,
   "metadata": {},
   "outputs": [],
   "source": [
    "modelname = 'model'\n",
    "\n",
    "def metric_models(modelname, model, X_test, y_test, y_pred):\n",
    "\n",
    "    acc   = round(accuracy_score(y_test,y_pred), 4)*100\n",
    "    score = round(metrics.precision_score(y_test, y_pred, average='macro'), 4)*100\n",
    "    mae   = round(mean_absolute_error(y_test, y_pred), 5)\n",
    "\n",
    "    # Calculate area under curve (AUC)\n",
    "    y_pred_proba = model.predict_proba(X_test)[::,1]\n",
    "    auc = round((metrics.roc_auc_score(y_test, y_pred_proba)), 4)*100\n",
    "\n",
    "    print(f'{modelname} model:')\n",
    "    print(f\"accuracy........:{acc}%\")\n",
    "    print(f'score...........:{score}')\n",
    "    print(f\"Mean Absolute Error: {mae}\")\n",
    "    print(f\"Area under curve (AUC): {auc} %\")"
   ]
  },
  {
   "cell_type": "code",
   "execution_count": 9,
   "metadata": {},
   "outputs": [],
   "source": [
    "def plot_conf_matrix(y_test, y_pred):\n",
    "    confusion_matrix1 = confusion_matrix(y_test, y_pred)\n",
    "    display = ConfusionMatrixDisplay(confusion_matrix1).plot()\n",
    "    plt.grid(False)\n",
    "    plt.show()"
   ]
  },
  {
   "cell_type": "markdown",
   "metadata": {},
   "source": [
    "#### Logistic Regression V.S. Random Forest V.S. Decision Tree V.S. AdaBoost Model\n"
   ]
  },
  {
   "cell_type": "code",
   "execution_count": 10,
   "metadata": {},
   "outputs": [],
   "source": [
    "X_train, X_test, y_train, y_test = train_test_split(X,y,test_size=0.2, random_state=123, stratify=y, shuffle=True)"
   ]
  },
  {
   "cell_type": "code",
   "execution_count": 11,
   "metadata": {},
   "outputs": [],
   "source": [
    "plt.style.use(\"seaborn-v0_8-whitegrid\")\n",
    "# Set Matplotlib defaults\n",
    "plt.rc('figure', autolayout=True)\n",
    "plt.rc('axes', labelweight='bold', labelsize='large',\n",
    "       titleweight='bold', titlesize=18, titlepad=10)"
   ]
  },
  {
   "cell_type": "code",
   "execution_count": 12,
   "metadata": {},
   "outputs": [
    {
     "name": "stderr",
     "output_type": "stream",
     "text": [
      "2023-12-18 17:03:13.012016: E tensorflow/compiler/xla/stream_executor/cuda/cuda_driver.cc:267] failed call to cuInit: CUDA_ERROR_NO_DEVICE: no CUDA-capable device is detected\n",
      "2023-12-18 17:03:13.012044: I tensorflow/compiler/xla/stream_executor/cuda/cuda_diagnostics.cc:156] kernel driver does not appear to be running on this host (master): /proc/driver/nvidia/version does not exist\n",
      "2023-12-18 17:03:13.012329: I tensorflow/core/platform/cpu_feature_guard.cc:193] This TensorFlow binary is optimized with oneAPI Deep Neural Network Library (oneDNN) to use the following CPU instructions in performance-critical operations:  AVX2 FMA\n",
      "To enable them in other operations, rebuild TensorFlow with the appropriate compiler flags.\n"
     ]
    }
   ],
   "source": [
    "model = keras.Sequential([layers.Dense(1024, activation='relu'),\n",
    "                          layers.Dropout(0.3),\n",
    "                          layers.BatchNormalization(),\n",
    "                          layers.Dense(1024, activation='relu'),\n",
    "                          layers.Dropout(0.3),\n",
    "                          layers.BatchNormalization(),\n",
    "                          layers.Dense(1024, activation='sigmoid'),\n",
    "                          layers.Dropout(0.3),\n",
    "                          layers.BatchNormalization(),\n",
    "                          layers.Dense(1),\n",
    "                         ])\n",
    "\n",
    "#model.compile(optimizer='adam', loss='mae',)\n",
    "model.compile(loss='binary_crossentropy', optimizer='adam', metrics=['accuracy'])"
   ]
  },
  {
   "cell_type": "code",
   "execution_count": 13,
   "metadata": {},
   "outputs": [
    {
     "name": "stdout",
     "output_type": "stream",
     "text": [
      "Epoch 1/50\n"
     ]
    },
    {
     "name": "stdout",
     "output_type": "stream",
     "text": [
      "47/47 [==============================] - 5s 68ms/step - loss: 5.4589 - accuracy: 0.6020 - val_loss: 11.5694 - val_accuracy: 0.2387\n",
      "Epoch 2/50\n",
      "47/47 [==============================] - 3s 62ms/step - loss: 5.6679 - accuracy: 0.6185 - val_loss: 10.9021 - val_accuracy: 0.2783\n",
      "Epoch 3/50\n",
      "47/47 [==============================] - 2s 52ms/step - loss: 5.4265 - accuracy: 0.6322 - val_loss: 8.9565 - val_accuracy: 0.4057\n",
      "Epoch 4/50\n",
      "47/47 [==============================] - 2s 53ms/step - loss: 5.5107 - accuracy: 0.6319 - val_loss: 6.6214 - val_accuracy: 0.5607\n",
      "Epoch 5/50\n",
      "47/47 [==============================] - 2s 49ms/step - loss: 5.3945 - accuracy: 0.6337 - val_loss: 4.4166 - val_accuracy: 0.6973\n",
      "Epoch 6/50\n",
      "47/47 [==============================] - 2s 50ms/step - loss: 5.3703 - accuracy: 0.6403 - val_loss: 5.4659 - val_accuracy: 0.6337\n",
      "Epoch 7/50\n",
      "47/47 [==============================] - 3s 60ms/step - loss: 5.1912 - accuracy: 0.6521 - val_loss: 3.7137 - val_accuracy: 0.7543\n",
      "Epoch 8/50\n",
      "47/47 [==============================] - 3s 53ms/step - loss: 5.1008 - accuracy: 0.6586 - val_loss: 4.4723 - val_accuracy: 0.7030\n",
      "Epoch 9/50\n",
      "47/47 [==============================] - 3s 58ms/step - loss: 4.9253 - accuracy: 0.6709 - val_loss: 4.2306 - val_accuracy: 0.7210\n",
      "Epoch 10/50\n",
      "47/47 [==============================] - 3s 56ms/step - loss: 4.7541 - accuracy: 0.6806 - val_loss: 4.5123 - val_accuracy: 0.7013\n",
      "Epoch 11/50\n",
      "47/47 [==============================] - 3s 72ms/step - loss: 4.9846 - accuracy: 0.6658 - val_loss: 4.4031 - val_accuracy: 0.7083\n",
      "Epoch 12/50\n",
      "47/47 [==============================] - 3s 58ms/step - loss: 4.8657 - accuracy: 0.6737 - val_loss: 6.2046 - val_accuracy: 0.5923\n",
      "Epoch 13/50\n",
      "47/47 [==============================] - 3s 59ms/step - loss: 4.8029 - accuracy: 0.6797 - val_loss: 4.7079 - val_accuracy: 0.6873\n",
      "Epoch 14/50\n",
      "47/47 [==============================] - 3s 62ms/step - loss: 4.5720 - accuracy: 0.6914 - val_loss: 6.5303 - val_accuracy: 0.5670\n",
      "Epoch 15/50\n",
      "47/47 [==============================] - 3s 57ms/step - loss: 4.3707 - accuracy: 0.7065 - val_loss: 7.6862 - val_accuracy: 0.4943\n",
      "Epoch 16/50\n",
      "47/47 [==============================] - 3s 58ms/step - loss: 4.5845 - accuracy: 0.6952 - val_loss: 7.8320 - val_accuracy: 0.4853\n",
      "Epoch 17/50\n",
      "47/47 [==============================] - 3s 58ms/step - loss: 4.5524 - accuracy: 0.6988 - val_loss: 6.3327 - val_accuracy: 0.5840\n",
      "Epoch 18/50\n",
      "47/47 [==============================] - 3s 59ms/step - loss: 4.3115 - accuracy: 0.7121 - val_loss: 4.6965 - val_accuracy: 0.6917\n",
      "Epoch 19/50\n",
      "47/47 [==============================] - 2s 51ms/step - loss: 4.1319 - accuracy: 0.7245 - val_loss: 5.2803 - val_accuracy: 0.6533\n",
      "Epoch 20/50\n",
      "47/47 [==============================] - 2s 51ms/step - loss: 3.9539 - accuracy: 0.7362 - val_loss: 6.1705 - val_accuracy: 0.5930\n",
      "Epoch 21/50\n",
      "47/47 [==============================] - 2s 52ms/step - loss: 3.8281 - accuracy: 0.7446 - val_loss: 7.4194 - val_accuracy: 0.5120\n",
      "Epoch 22/50\n",
      "47/47 [==============================] - 3s 54ms/step - loss: 3.7934 - accuracy: 0.7454 - val_loss: 7.7837 - val_accuracy: 0.4897\n",
      "Epoch 23/50\n",
      "47/47 [==============================] - 3s 58ms/step - loss: 3.9944 - accuracy: 0.7344 - val_loss: 7.7723 - val_accuracy: 0.4887\n",
      "Epoch 24/50\n",
      "47/47 [==============================] - 3s 60ms/step - loss: 3.8606 - accuracy: 0.7427 - val_loss: 7.6194 - val_accuracy: 0.5010\n",
      "Epoch 25/50\n",
      "47/47 [==============================] - 3s 59ms/step - loss: 3.7567 - accuracy: 0.7493 - val_loss: 7.1995 - val_accuracy: 0.5273\n",
      "Epoch 26/50\n",
      "47/47 [==============================] - 3s 56ms/step - loss: 3.7937 - accuracy: 0.7483 - val_loss: 7.4104 - val_accuracy: 0.5120\n",
      "Epoch 27/50\n",
      "47/47 [==============================] - 2s 52ms/step - loss: 3.9671 - accuracy: 0.7365 - val_loss: 6.1190 - val_accuracy: 0.5953\n",
      "Epoch 28/50\n",
      "47/47 [==============================] - 2s 52ms/step - loss: 3.7968 - accuracy: 0.7481 - val_loss: 6.7155 - val_accuracy: 0.5567\n",
      "Epoch 29/50\n",
      "47/47 [==============================] - 2s 46ms/step - loss: 3.5563 - accuracy: 0.7636 - val_loss: 7.1370 - val_accuracy: 0.5300\n",
      "Epoch 30/50\n",
      "47/47 [==============================] - 2s 43ms/step - loss: 3.5514 - accuracy: 0.7638 - val_loss: 7.4611 - val_accuracy: 0.5097\n",
      "Epoch 31/50\n",
      "47/47 [==============================] - 2s 36ms/step - loss: 3.1745 - accuracy: 0.7880 - val_loss: 9.4564 - val_accuracy: 0.3770\n",
      "Epoch 32/50\n",
      "47/47 [==============================] - 2s 38ms/step - loss: 3.2163 - accuracy: 0.7850 - val_loss: 9.3445 - val_accuracy: 0.3863\n",
      "Epoch 33/50\n",
      "47/47 [==============================] - 2s 37ms/step - loss: 3.6295 - accuracy: 0.7600 - val_loss: 9.2965 - val_accuracy: 0.3880\n",
      "Epoch 34/50\n",
      "47/47 [==============================] - 2s 41ms/step - loss: 4.4021 - accuracy: 0.7089 - val_loss: 9.7455 - val_accuracy: 0.3603\n",
      "Epoch 35/50\n",
      "47/47 [==============================] - 2s 39ms/step - loss: 3.9195 - accuracy: 0.7405 - val_loss: 8.4964 - val_accuracy: 0.4423\n",
      "Epoch 36/50\n",
      "47/47 [==============================] - 2s 41ms/step - loss: 3.7829 - accuracy: 0.7501 - val_loss: 7.1627 - val_accuracy: 0.5260\n",
      "Epoch 37/50\n",
      "47/47 [==============================] - 2s 44ms/step - loss: 3.7594 - accuracy: 0.7517 - val_loss: 6.3844 - val_accuracy: 0.5793\n",
      "Epoch 38/50\n",
      "47/47 [==============================] - 2s 44ms/step - loss: 3.6764 - accuracy: 0.7574 - val_loss: 6.8652 - val_accuracy: 0.5493\n",
      "Epoch 39/50\n",
      "47/47 [==============================] - 3s 58ms/step - loss: 3.8547 - accuracy: 0.7452 - val_loss: 6.1736 - val_accuracy: 0.5947\n",
      "Epoch 40/50\n",
      "47/47 [==============================] - 3s 62ms/step - loss: 4.0649 - accuracy: 0.7323 - val_loss: 6.2992 - val_accuracy: 0.5847\n",
      "Epoch 41/50\n",
      "47/47 [==============================] - 2s 53ms/step - loss: 3.8737 - accuracy: 0.7452 - val_loss: 4.4207 - val_accuracy: 0.7093\n",
      "Epoch 42/50\n",
      "47/47 [==============================] - 2s 48ms/step - loss: 3.6821 - accuracy: 0.7574 - val_loss: 3.1097 - val_accuracy: 0.7930\n",
      "Epoch 43/50\n",
      "47/47 [==============================] - 2s 49ms/step - loss: 3.8760 - accuracy: 0.7418 - val_loss: 3.3629 - val_accuracy: 0.7793\n",
      "Epoch 44/50\n",
      "47/47 [==============================] - 2s 50ms/step - loss: 3.8221 - accuracy: 0.7455 - val_loss: 3.5526 - val_accuracy: 0.7680\n",
      "Epoch 45/50\n",
      "47/47 [==============================] - 2s 47ms/step - loss: 3.8162 - accuracy: 0.7459 - val_loss: 3.5472 - val_accuracy: 0.7683\n",
      "Epoch 46/50\n",
      "47/47 [==============================] - 2s 53ms/step - loss: 3.7770 - accuracy: 0.7488 - val_loss: 3.5572 - val_accuracy: 0.7683\n",
      "Epoch 47/50\n",
      "47/47 [==============================] - 2s 52ms/step - loss: 3.8613 - accuracy: 0.7450 - val_loss: 3.3753 - val_accuracy: 0.7793\n",
      "Epoch 48/50\n",
      "47/47 [==============================] - 2s 47ms/step - loss: 3.6892 - accuracy: 0.7564 - val_loss: 3.6202 - val_accuracy: 0.7633\n",
      "Epoch 49/50\n",
      "47/47 [==============================] - 2s 53ms/step - loss: 3.6644 - accuracy: 0.7581 - val_loss: 3.3816 - val_accuracy: 0.7797\n",
      "Epoch 50/50\n",
      "47/47 [==============================] - 2s 49ms/step - loss: 3.6000 - accuracy: 0.7623 - val_loss: 3.7073 - val_accuracy: 0.7590\n"
     ]
    }
   ],
   "source": [
    "# fitting...\n",
    "history = model.fit(X_train, y_train,\n",
    "                    validation_data=(X_test, y_test),\n",
    "                    batch_size=256,\n",
    "                    epochs=50,\n",
    "                    verbose=1,\n",
    "                   )"
   ]
  },
  {
   "cell_type": "code",
   "execution_count": 14,
   "metadata": {},
   "outputs": [
    {
     "data": {
      "text/plain": [
       "Text(0.5, 1.0, 'The learning curves')"
      ]
     },
     "execution_count": 14,
     "metadata": {},
     "output_type": "execute_result"
    },
    {
     "data": {
      "image/png": "[encoded data removed]",
      "text/plain": [
       "<Figure size 640x480 with 1 Axes>"
      ]
     },
     "metadata": {},
     "output_type": "display_data"
    }
   ],
   "source": [
    "# Show the learning curves\n",
    "history_df = pd.DataFrame(history.history)\n",
    "history_df.loc[:, ['loss', 'val_loss']].plot()\n",
    "plt.xlabel('Epoch')\n",
    "plt.ylabel('Loss')\n",
    "plt.title('The learning curves')"
   ]
  },
  {
   "cell_type": "code",
   "execution_count": 15,
   "metadata": {},
   "outputs": [],
   "source": [
    "def plot_roc_curve(fpr, tpr, label=None):\n",
    "    plt.plot(fpr, tpr, linewidth=2, label=label)\n",
    "    plt.plot([0, 1], [0, 1], 'k--') \n",
    "    plt.axis([0, 1, 0, 1])                                    \n",
    "    plt.xlabel('False Positive Rate (Fall-Out)', fontsize=16) \n",
    "    plt.ylabel('True Positive Rate (Recall)', fontsize=16)    \n",
    "    plt.grid(True) "
   ]
  },
  {
   "cell_type": "code",
   "execution_count": 16,
   "metadata": {},
   "outputs": [
    {
     "name": "stdout",
     "output_type": "stream",
     "text": [
      "94/94 [==============================] - 0s 3ms/step\n"
     ]
    }
   ],
   "source": [
    "y_pred_keras = model.predict(X_test)  # keras\n",
    "model_roc_auc = roc_auc_score(y_test, y_pred_keras)"
   ]
  },
  {
   "cell_type": "code",
   "execution_count": 17,
   "metadata": {},
   "outputs": [],
   "source": [
    "fpr_net, tpr_net_lr, thresholds_net_lr = roc_curve(y_test, y_pred_keras)"
   ]
  },
  {
   "cell_type": "code",
   "execution_count": 18,
   "metadata": {},
   "outputs": [
    {
     "data": {
      "image/png": "[encoded data removed]",
      "text/plain": [
       "<Figure size 800x600 with 1 Axes>"
      ]
     },
     "metadata": {},
     "output_type": "display_data"
    }
   ],
   "source": [
    "plt.figure(figsize=(8, 6))                                    # Not shown\n",
    "plot_roc_curve(fpr_net, tpr_net_lr, label='DL: Keras (area = %0.4f)' % model_roc_auc)\n",
    "plt.plot([0, 1], [0, 1],'b--') \n",
    "plt.text(0.5, 0.5, \"varying threshold scores (0-1)\", rotation=0, size=15,ha=\"center\", va=\"center\",bbox=dict(boxstyle=\"rarrow\")) \n",
    "plt.xlabel('False Positive Rate') \n",
    "plt.ylabel('True Positive Rate') \n",
    "now = strftime(\"%Y-%m-%d\", gmtime())\n",
    "plt.title(f'               ROC curve                                  {now}')\n",
    "plt.legend(loc=\"lower right\") \n",
    "plt.savefig('ROC_curves')\n",
    "# Save the plot as a PNG file\n",
    "plt.savefig('../images/roc_curve_dlkeras.png') \n",
    "plt.show()"
   ]
  },
  {
   "cell_type": "code",
   "execution_count": 19,
   "metadata": {},
   "outputs": [
    {
     "ename": "NameError",
     "evalue": "name 'y_pred' is not defined",
     "output_type": "error",
     "traceback": [
      "\u001b[0;31m---------------------------------------------------------------------------\u001b[0m",
      "\u001b[0;31mNameError\u001b[0m                                 Traceback (most recent call last)",
      "Cell \u001b[0;32mIn[19], line 1\u001b[0m\n\u001b[0;32m----> 1\u001b[0m dfmetrics \u001b[38;5;241m=\u001b[39m metric_models(\u001b[38;5;124m'\u001b[39m\u001b[38;5;124mKeras model\u001b[39m\u001b[38;5;124m'\u001b[39m, model, X_test, y_test, \u001b[43my_pred\u001b[49m, dfmetrics)\n\u001b[1;32m      2\u001b[0m dfmetrics\n",
      "\u001b[0;31mNameError\u001b[0m: name 'y_pred' is not defined"
     ]
    }
   ],
   "source": [
    "dfmetrics = metric_models('Keras model', model, X_test, y_test, y_pred, dfmetrics)\n",
    "dfmetrics"
   ]
  },
  {
   "cell_type": "markdown",
   "metadata": {},
   "source": [
    "#### This is for Tests!!!"
   ]
  },
  {
   "cell_type": "code",
   "execution_count": null,
   "metadata": {},
   "outputs": [
    {
     "data": {
      "text/html": [
       "<div>\n",
       "<style scoped>\n",
       "    .dataframe tbody tr th:only-of-type {\n",
       "        vertical-align: middle;\n",
       "    }\n",
       "\n",
       "    .dataframe tbody tr th {\n",
       "        vertical-align: top;\n",
       "    }\n",
       "\n",
       "    .dataframe thead th {\n",
       "        text-align: right;\n",
       "    }\n",
       "</style>\n",
       "<table border=\"1\" class=\"dataframe\">\n",
       "  <thead>\n",
       "    <tr style=\"text-align: right;\">\n",
       "      <th></th>\n",
       "      <th>satisfaction</th>\n",
       "      <th>evaluation</th>\n",
       "      <th>projectCount</th>\n",
       "      <th>averageMonthlyHours</th>\n",
       "      <th>yearsAtCompany</th>\n",
       "      <th>workAccident</th>\n",
       "      <th>turnover</th>\n",
       "      <th>promotion</th>\n",
       "      <th>dept</th>\n",
       "      <th>salary</th>\n",
       "    </tr>\n",
       "  </thead>\n",
       "  <tbody>\n",
       "    <tr>\n",
       "      <th>0</th>\n",
       "      <td>0.06</td>\n",
       "      <td>0.12</td>\n",
       "      <td>6</td>\n",
       "      <td>155</td>\n",
       "      <td>8</td>\n",
       "      <td>0</td>\n",
       "      <td>1</td>\n",
       "      <td>0</td>\n",
       "      <td>3</td>\n",
       "      <td>0</td>\n",
       "    </tr>\n",
       "    <tr>\n",
       "      <th>1</th>\n",
       "      <td>0.73</td>\n",
       "      <td>0.51</td>\n",
       "      <td>5</td>\n",
       "      <td>144</td>\n",
       "      <td>8</td>\n",
       "      <td>1</td>\n",
       "      <td>0</td>\n",
       "      <td>0</td>\n",
       "      <td>2</td>\n",
       "      <td>0</td>\n",
       "    </tr>\n",
       "    <tr>\n",
       "      <th>2</th>\n",
       "      <td>0.75</td>\n",
       "      <td>0.99</td>\n",
       "      <td>4</td>\n",
       "      <td>284</td>\n",
       "      <td>4</td>\n",
       "      <td>0</td>\n",
       "      <td>1</td>\n",
       "      <td>0</td>\n",
       "      <td>5</td>\n",
       "      <td>1</td>\n",
       "    </tr>\n",
       "    <tr>\n",
       "      <th>3</th>\n",
       "      <td>0.59</td>\n",
       "      <td>0.95</td>\n",
       "      <td>6</td>\n",
       "      <td>272</td>\n",
       "      <td>9</td>\n",
       "      <td>0</td>\n",
       "      <td>1</td>\n",
       "      <td>1</td>\n",
       "      <td>6</td>\n",
       "      <td>1</td>\n",
       "    </tr>\n",
       "    <tr>\n",
       "      <th>4</th>\n",
       "      <td>0.29</td>\n",
       "      <td>0.17</td>\n",
       "      <td>7</td>\n",
       "      <td>113</td>\n",
       "      <td>3</td>\n",
       "      <td>0</td>\n",
       "      <td>0</td>\n",
       "      <td>1</td>\n",
       "      <td>6</td>\n",
       "      <td>1</td>\n",
       "    </tr>\n",
       "    <tr>\n",
       "      <th>...</th>\n",
       "      <td>...</td>\n",
       "      <td>...</td>\n",
       "      <td>...</td>\n",
       "      <td>...</td>\n",
       "      <td>...</td>\n",
       "      <td>...</td>\n",
       "      <td>...</td>\n",
       "      <td>...</td>\n",
       "      <td>...</td>\n",
       "      <td>...</td>\n",
       "    </tr>\n",
       "    <tr>\n",
       "      <th>99995</th>\n",
       "      <td>0.48</td>\n",
       "      <td>0.67</td>\n",
       "      <td>7</td>\n",
       "      <td>175</td>\n",
       "      <td>7</td>\n",
       "      <td>0</td>\n",
       "      <td>1</td>\n",
       "      <td>0</td>\n",
       "      <td>6</td>\n",
       "      <td>2</td>\n",
       "    </tr>\n",
       "    <tr>\n",
       "      <th>99996</th>\n",
       "      <td>0.76</td>\n",
       "      <td>0.25</td>\n",
       "      <td>4</td>\n",
       "      <td>234</td>\n",
       "      <td>6</td>\n",
       "      <td>0</td>\n",
       "      <td>1</td>\n",
       "      <td>0</td>\n",
       "      <td>3</td>\n",
       "      <td>1</td>\n",
       "    </tr>\n",
       "    <tr>\n",
       "      <th>99997</th>\n",
       "      <td>0.48</td>\n",
       "      <td>0.97</td>\n",
       "      <td>7</td>\n",
       "      <td>191</td>\n",
       "      <td>9</td>\n",
       "      <td>0</td>\n",
       "      <td>0</td>\n",
       "      <td>0</td>\n",
       "      <td>0</td>\n",
       "      <td>1</td>\n",
       "    </tr>\n",
       "    <tr>\n",
       "      <th>99998</th>\n",
       "      <td>0.14</td>\n",
       "      <td>0.65</td>\n",
       "      <td>7</td>\n",
       "      <td>262</td>\n",
       "      <td>4</td>\n",
       "      <td>1</td>\n",
       "      <td>0</td>\n",
       "      <td>1</td>\n",
       "      <td>2</td>\n",
       "      <td>1</td>\n",
       "    </tr>\n",
       "    <tr>\n",
       "      <th>99999</th>\n",
       "      <td>0.84</td>\n",
       "      <td>0.71</td>\n",
       "      <td>5</td>\n",
       "      <td>204</td>\n",
       "      <td>10</td>\n",
       "      <td>0</td>\n",
       "      <td>0</td>\n",
       "      <td>0</td>\n",
       "      <td>0</td>\n",
       "      <td>1</td>\n",
       "    </tr>\n",
       "  </tbody>\n",
       "</table>\n",
       "<p>100000 rows × 10 columns</p>\n",
       "</div>"
      ],
      "text/plain": [
       "       satisfaction  evaluation  projectCount  averageMonthlyHours  \\\n",
       "0              0.06        0.12             6                  155   \n",
       "1              0.73        0.51             5                  144   \n",
       "2              0.75        0.99             4                  284   \n",
       "3              0.59        0.95             6                  272   \n",
       "4              0.29        0.17             7                  113   \n",
       "...             ...         ...           ...                  ...   \n",
       "99995          0.48        0.67             7                  175   \n",
       "99996          0.76        0.25             4                  234   \n",
       "99997          0.48        0.97             7                  191   \n",
       "99998          0.14        0.65             7                  262   \n",
       "99999          0.84        0.71             5                  204   \n",
       "\n",
       "       yearsAtCompany  workAccident  turnover  promotion  dept  salary  \n",
       "0                   8             0         1          0     3       0  \n",
       "1                   8             1         0          0     2       0  \n",
       "2                   4             0         1          0     5       1  \n",
       "3                   9             0         1          1     6       1  \n",
       "4                   3             0         0          1     6       1  \n",
       "...               ...           ...       ...        ...   ...     ...  \n",
       "99995               7             0         1          0     6       2  \n",
       "99996               6             0         1          0     3       1  \n",
       "99997               9             0         0          0     0       1  \n",
       "99998               4             1         0          1     2       1  \n",
       "99999              10             0         0          0     0       1  \n",
       "\n",
       "[100000 rows x 10 columns]"
      ]
     },
     "execution_count": 58,
     "metadata": {},
     "output_type": "execute_result"
    }
   ],
   "source": [
    "# fake data - generated\n",
    "df_test = pd.read_csv('../gendata/HR_COM1_fake_totest.csv', index_col=0)\n",
    "df_test"
   ]
  },
  {
   "cell_type": "code",
   "execution_count": null,
   "metadata": {},
   "outputs": [
    {
     "data": {
      "text/plain": [
       "(100000, 10)"
      ]
     },
     "execution_count": 59,
     "metadata": {},
     "output_type": "execute_result"
    }
   ],
   "source": [
    "df_test.shape"
   ]
  },
  {
   "cell_type": "code",
   "execution_count": null,
   "metadata": {},
   "outputs": [],
   "source": [
    "# Set the input X to the K-Means.\n",
    "X = df_test.drop(columns=['turnover'])\n",
    "y = df_test['turnover']"
   ]
  },
  {
   "cell_type": "code",
   "execution_count": null,
   "metadata": {},
   "outputs": [],
   "source": [
    "X_train, X_test, y_train, y_test = train_test_split(X,y,test_size=0.8, random_state=123, stratify=y, shuffle=True)"
   ]
  },
  {
   "cell_type": "code",
   "execution_count": null,
   "metadata": {},
   "outputs": [],
   "source": [
    "y_pred_xgb = xgb_model.predict(X_test)"
   ]
  },
  {
   "cell_type": "code",
   "execution_count": null,
   "metadata": {},
   "outputs": [
    {
     "name": "stdout",
     "output_type": "stream",
     "text": [
      "XGBClassifier Test model:\n",
      "accuracy........:50.03999999999999%\n",
      "score...........:49.7\n",
      "Mean Absolute Error: 0.49956\n",
      "Area under curve (AUC): 49.87 %\n"
     ]
    }
   ],
   "source": [
    "\n",
    "metric_models('XGBClassifier Test', xgb_model, X_test, y_test, y_pred_xgb)"
   ]
  }
 ],
 "metadata": {
  "kernelspec": {
   "display_name": "Python 3",
   "language": "python",
   "name": "python3"
  },
  "language_info": {
   "codemirror_mode": {
    "name": "ipython",
    "version": 3
   },
   "file_extension": ".py",
   "mimetype": "text/x-python",
   "name": "python",
   "nbconvert_exporter": "python",
   "pygments_lexer": "ipython3",
   "version": "3.8.10"
  }
 },
 "nbformat": 4,
 "nbformat_minor": 2
}

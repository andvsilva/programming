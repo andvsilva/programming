{
 "cells": [
  {
   "cell_type": "code",
   "execution_count": 202,
   "metadata": {},
   "outputs": [
    {
     "name": "stdout",
     "output_type": "stream",
     "text": [
      "ter 12 dez 2023 17:33:09 -03\n"
     ]
    },
    {
     "data": {
      "text/plain": [
       "0"
      ]
     },
     "execution_count": 202,
     "metadata": {},
     "output_type": "execute_result"
    }
   ],
   "source": [
    "# libraries\n",
    "import pandas as pd\n",
    "import numpy as np\n",
    "import matplotlib.pyplot as plt\n",
    "import matplotlib as matplot\n",
    "import seaborn as sns\n",
    "import os\n",
    "import sqlite3\n",
    "%matplotlib inline\n",
    "import plotly.express as px\n",
    "from plotly import graph_objs as go\n",
    "import plotly.figure_factory as ff\n",
    "from time import gmtime, strftime\n",
    "\n",
    "# Model\n",
    "# Compare the Logistic Regression Model V.S. Base Rate Model V.S. Random Forest Model\n",
    "from sklearn.metrics import roc_auc_score\n",
    "from sklearn.metrics import classification_report\n",
    "from sklearn.ensemble import RandomForestClassifier\n",
    "\n",
    "from sklearn import tree\n",
    "from sklearn.tree import DecisionTreeClassifier\n",
    "from sklearn.linear_model import LogisticRegression\n",
    "from sklearn.ensemble import ExtraTreesClassifier\n",
    "from sklearn.ensemble import BaggingClassifier\n",
    "from sklearn.ensemble import AdaBoostClassifier\n",
    "from sklearn.ensemble import GradientBoostingClassifier\n",
    "from sklearn.ensemble import VotingClassifier\n",
    "from matplotlib import pyplot\n",
    "import xgboost as xgb\n",
    "import lightgbm as lgb\n",
    "from catboost import CatBoostClassifier\n",
    "import tensorflow as tf\n",
    "# Keras specific\n",
    "import tensorflow as tf\n",
    "from tensorflow.keras.datasets import imdb\n",
    "from tensorflow.keras.models import Sequential\n",
    "from tensorflow.keras.layers import Dense, Embedding, LSTM\n",
    "from tensorflow.keras.preprocessing import sequence\n",
    "from tensorflow import keras\n",
    "from tensorflow.keras import layers\n",
    "from tensorflow.keras.callbacks import EarlyStopping\n",
    "\n",
    "from sklearn.cluster import KMeans\n",
    "from sklearn import model_selection\n",
    "from sklearn.model_selection import train_test_split\n",
    "import sklearn.metrics as metrics\n",
    "from sklearn.metrics import mean_absolute_error\n",
    "\n",
    "from sklearn.metrics import accuracy_score\n",
    "from sklearn.metrics import classification_report\n",
    "from sklearn.metrics import precision_score\n",
    "from sklearn.metrics import recall_score, confusion_matrix, precision_recall_curve\n",
    "from sklearn.metrics import roc_curve, ConfusionMatrixDisplay\n",
    "from sklearn import metrics\n",
    "\n",
    "import warnings\n",
    "warnings.filterwarnings(\"ignore\")\n",
    "\n",
    "import toolkit as tool\n",
    "\n",
    "import os\n",
    "\n",
    "os.system('date')"
   ]
  },
  {
   "cell_type": "markdown",
   "metadata": {},
   "source": [
    "### Objective\n",
    "\n",
    "The data is for company X which is trying to control attrition. There are two sets of data: “Existing employees” and “Employees who have left”. Following attributes are available for every employee.\n",
    " - Satisfaction Level\n",
    " - Last evaluation\n",
    " - Number of projects\n",
    " - Average monthly hours\n",
    " - Time spent at the company\n",
    " - Whether they have had a work accident\n",
    " - Whether they have had a promotion in the last 5 years\n",
    " - Departments (column sales)\n",
    " - Salary\n",
    " - Whether the employee has left"
   ]
  },
  {
   "cell_type": "code",
   "execution_count": 203,
   "metadata": {},
   "outputs": [
    {
     "data": {
      "text/html": [
       "<div>\n",
       "<style scoped>\n",
       "    .dataframe tbody tr th:only-of-type {\n",
       "        vertical-align: middle;\n",
       "    }\n",
       "\n",
       "    .dataframe tbody tr th {\n",
       "        vertical-align: top;\n",
       "    }\n",
       "\n",
       "    .dataframe thead th {\n",
       "        text-align: right;\n",
       "    }\n",
       "</style>\n",
       "<table border=\"1\" class=\"dataframe\">\n",
       "  <thead>\n",
       "    <tr style=\"text-align: right;\">\n",
       "      <th></th>\n",
       "      <th>Emp ID</th>\n",
       "      <th>satisfaction</th>\n",
       "      <th>evaluation</th>\n",
       "      <th>projectCount</th>\n",
       "      <th>averageMonthlyHours</th>\n",
       "      <th>yearsAtCompany</th>\n",
       "      <th>workAccident</th>\n",
       "      <th>turnover</th>\n",
       "      <th>promotion</th>\n",
       "      <th>dept</th>\n",
       "      <th>salary</th>\n",
       "    </tr>\n",
       "  </thead>\n",
       "  <tbody>\n",
       "    <tr>\n",
       "      <th>0</th>\n",
       "      <td>1</td>\n",
       "      <td>0.38</td>\n",
       "      <td>0.53</td>\n",
       "      <td>2</td>\n",
       "      <td>157</td>\n",
       "      <td>3</td>\n",
       "      <td>0</td>\n",
       "      <td>1</td>\n",
       "      <td>0</td>\n",
       "      <td>7</td>\n",
       "      <td>1</td>\n",
       "    </tr>\n",
       "    <tr>\n",
       "      <th>1</th>\n",
       "      <td>2</td>\n",
       "      <td>0.80</td>\n",
       "      <td>0.86</td>\n",
       "      <td>5</td>\n",
       "      <td>262</td>\n",
       "      <td>6</td>\n",
       "      <td>0</td>\n",
       "      <td>1</td>\n",
       "      <td>0</td>\n",
       "      <td>7</td>\n",
       "      <td>2</td>\n",
       "    </tr>\n",
       "    <tr>\n",
       "      <th>2</th>\n",
       "      <td>3</td>\n",
       "      <td>0.11</td>\n",
       "      <td>0.88</td>\n",
       "      <td>7</td>\n",
       "      <td>272</td>\n",
       "      <td>4</td>\n",
       "      <td>0</td>\n",
       "      <td>1</td>\n",
       "      <td>0</td>\n",
       "      <td>7</td>\n",
       "      <td>2</td>\n",
       "    </tr>\n",
       "    <tr>\n",
       "      <th>3</th>\n",
       "      <td>4</td>\n",
       "      <td>0.72</td>\n",
       "      <td>0.87</td>\n",
       "      <td>5</td>\n",
       "      <td>223</td>\n",
       "      <td>5</td>\n",
       "      <td>0</td>\n",
       "      <td>1</td>\n",
       "      <td>0</td>\n",
       "      <td>7</td>\n",
       "      <td>1</td>\n",
       "    </tr>\n",
       "    <tr>\n",
       "      <th>4</th>\n",
       "      <td>5</td>\n",
       "      <td>0.37</td>\n",
       "      <td>0.52</td>\n",
       "      <td>2</td>\n",
       "      <td>159</td>\n",
       "      <td>3</td>\n",
       "      <td>0</td>\n",
       "      <td>1</td>\n",
       "      <td>0</td>\n",
       "      <td>7</td>\n",
       "      <td>1</td>\n",
       "    </tr>\n",
       "    <tr>\n",
       "      <th>...</th>\n",
       "      <td>...</td>\n",
       "      <td>...</td>\n",
       "      <td>...</td>\n",
       "      <td>...</td>\n",
       "      <td>...</td>\n",
       "      <td>...</td>\n",
       "      <td>...</td>\n",
       "      <td>...</td>\n",
       "      <td>...</td>\n",
       "      <td>...</td>\n",
       "      <td>...</td>\n",
       "    </tr>\n",
       "    <tr>\n",
       "      <th>95</th>\n",
       "      <td>96</td>\n",
       "      <td>0.37</td>\n",
       "      <td>0.51</td>\n",
       "      <td>2</td>\n",
       "      <td>155</td>\n",
       "      <td>3</td>\n",
       "      <td>0</td>\n",
       "      <td>1</td>\n",
       "      <td>0</td>\n",
       "      <td>7</td>\n",
       "      <td>1</td>\n",
       "    </tr>\n",
       "    <tr>\n",
       "      <th>96</th>\n",
       "      <td>97</td>\n",
       "      <td>0.10</td>\n",
       "      <td>0.77</td>\n",
       "      <td>6</td>\n",
       "      <td>265</td>\n",
       "      <td>4</td>\n",
       "      <td>0</td>\n",
       "      <td>1</td>\n",
       "      <td>0</td>\n",
       "      <td>7</td>\n",
       "      <td>1</td>\n",
       "    </tr>\n",
       "    <tr>\n",
       "      <th>97</th>\n",
       "      <td>98</td>\n",
       "      <td>0.10</td>\n",
       "      <td>0.84</td>\n",
       "      <td>6</td>\n",
       "      <td>279</td>\n",
       "      <td>4</td>\n",
       "      <td>0</td>\n",
       "      <td>1</td>\n",
       "      <td>0</td>\n",
       "      <td>7</td>\n",
       "      <td>1</td>\n",
       "    </tr>\n",
       "    <tr>\n",
       "      <th>98</th>\n",
       "      <td>99</td>\n",
       "      <td>0.11</td>\n",
       "      <td>0.97</td>\n",
       "      <td>6</td>\n",
       "      <td>284</td>\n",
       "      <td>4</td>\n",
       "      <td>0</td>\n",
       "      <td>1</td>\n",
       "      <td>0</td>\n",
       "      <td>7</td>\n",
       "      <td>1</td>\n",
       "    </tr>\n",
       "    <tr>\n",
       "      <th>99</th>\n",
       "      <td>100</td>\n",
       "      <td>0.90</td>\n",
       "      <td>1.00</td>\n",
       "      <td>5</td>\n",
       "      <td>221</td>\n",
       "      <td>6</td>\n",
       "      <td>0</td>\n",
       "      <td>1</td>\n",
       "      <td>0</td>\n",
       "      <td>7</td>\n",
       "      <td>2</td>\n",
       "    </tr>\n",
       "  </tbody>\n",
       "</table>\n",
       "<p>100 rows × 11 columns</p>\n",
       "</div>"
      ],
      "text/plain": [
       "    Emp ID  satisfaction  evaluation  projectCount  averageMonthlyHours  \\\n",
       "0        1          0.38        0.53             2                  157   \n",
       "1        2          0.80        0.86             5                  262   \n",
       "2        3          0.11        0.88             7                  272   \n",
       "3        4          0.72        0.87             5                  223   \n",
       "4        5          0.37        0.52             2                  159   \n",
       "..     ...           ...         ...           ...                  ...   \n",
       "95      96          0.37        0.51             2                  155   \n",
       "96      97          0.10        0.77             6                  265   \n",
       "97      98          0.10        0.84             6                  279   \n",
       "98      99          0.11        0.97             6                  284   \n",
       "99     100          0.90        1.00             5                  221   \n",
       "\n",
       "    yearsAtCompany  workAccident  turnover  promotion  dept  salary  \n",
       "0                3             0         1          0     7       1  \n",
       "1                6             0         1          0     7       2  \n",
       "2                4             0         1          0     7       2  \n",
       "3                5             0         1          0     7       1  \n",
       "4                3             0         1          0     7       1  \n",
       "..             ...           ...       ...        ...   ...     ...  \n",
       "95               3             0         1          0     7       1  \n",
       "96               4             0         1          0     7       1  \n",
       "97               4             0         1          0     7       1  \n",
       "98               4             0         1          0     7       1  \n",
       "99               6             0         1          0     7       2  \n",
       "\n",
       "[100 rows x 11 columns]"
      ]
     },
     "execution_count": 203,
     "metadata": {},
     "output_type": "execute_result"
    }
   ],
   "source": [
    "# loading dataset.\n",
    "df = pd.read_csv('../datasets/HR_COM1_tomodel.csv')\n",
    "df.head(100)"
   ]
  },
  {
   "cell_type": "code",
   "execution_count": 204,
   "metadata": {},
   "outputs": [
    {
     "name": "stdout",
     "output_type": "stream",
     "text": [
      "7    27.60%\n",
      "9    18.13%\n",
      "8    14.86%\n",
      "0     8.18%\n",
      "6     6.01%\n",
      "5     5.72%\n",
      "1     5.25%\n",
      "2     5.11%\n",
      "3     4.93%\n",
      "4     4.20%\n",
      "Name: dept, dtype: object\n"
     ]
    }
   ],
   "source": [
    "print(df['dept'].value_counts(normalize=True).map('{:.2%}'.format))"
   ]
  },
  {
   "cell_type": "code",
   "execution_count": 205,
   "metadata": {},
   "outputs": [
    {
     "data": {
      "text/plain": [
       "0"
      ]
     },
     "execution_count": 205,
     "metadata": {},
     "output_type": "execute_result"
    }
   ],
   "source": [
    "df.promotion.min()"
   ]
  },
  {
   "cell_type": "code",
   "execution_count": 206,
   "metadata": {},
   "outputs": [
    {
     "name": "stdout",
     "output_type": "stream",
     "text": [
      "Dataset rows = 14999 and columns = 11.\n"
     ]
    }
   ],
   "source": [
    "shape_rows = df.shape[0]\n",
    "shape_columns = df.shape[1]\n",
    "\n",
    "print(f'Dataset rows = {shape_rows} and columns = {shape_columns}.')"
   ]
  },
  {
   "cell_type": "markdown",
   "metadata": {},
   "source": [
    "### X and y "
   ]
  },
  {
   "cell_type": "code",
   "execution_count": 207,
   "metadata": {},
   "outputs": [],
   "source": [
    "# Set the input X to the K-Means.\n",
    "X = df.drop(columns=['turnover', 'Emp ID'])\n",
    "y = df['turnover']"
   ]
  },
  {
   "cell_type": "markdown",
   "metadata": {},
   "source": [
    "### Train and Test features"
   ]
  },
  {
   "cell_type": "code",
   "execution_count": 208,
   "metadata": {},
   "outputs": [],
   "source": [
    "X_train, X_test, y_train, y_test = train_test_split(X,y,test_size=0.2, random_state=123, stratify=y, shuffle = True)"
   ]
  },
  {
   "cell_type": "markdown",
   "metadata": {},
   "source": [
    "### Modeling"
   ]
  },
  {
   "cell_type": "code",
   "execution_count": 209,
   "metadata": {},
   "outputs": [],
   "source": [
    "modelname = 'model'\n",
    "\n",
    "def metric_models(modelname, model, X_test, y_test, y_pred):\n",
    "    acc   = round(accuracy_score(y_test,y_pred), 3)*100\n",
    "    score = round(metrics.precision_score(y_test, y_pred, average='macro')*100, 2)\n",
    "    mae   = round(mean_absolute_error(y_test, y_pred), 5)\n",
    "\n",
    "    # Calculate area under curve (AUC)\n",
    "    y_pred_proba = model.predict_proba(X_test)[::,1]\n",
    "    auc = round((metrics.roc_auc_score(y_test, y_pred_proba))*100, 2)\n",
    "\n",
    "    print(f'{modelname} model:')\n",
    "    print(f\"accuracy........:{acc}%\")\n",
    "    print(f'score...........:{score}')\n",
    "    print(f\"Mean Absolute Error: {mae}\")\n",
    "    print(f\"Area under curve (AUC): {auc} %\")"
   ]
  },
  {
   "cell_type": "code",
   "execution_count": 210,
   "metadata": {},
   "outputs": [],
   "source": [
    "def plot_conf_matrix(y_test, y_pred):\n",
    "    confusion_matrix1 = confusion_matrix(y_test, y_pred)\n",
    "    display = ConfusionMatrixDisplay(confusion_matrix1).plot()\n",
    "    plt.grid(False)\n",
    "    plt.show()"
   ]
  },
  {
   "cell_type": "markdown",
   "metadata": {},
   "source": [
    "#### CatBoostClassifier Model\n"
   ]
  },
  {
   "cell_type": "code",
   "execution_count": 211,
   "metadata": {},
   "outputs": [
    {
     "name": "stdout",
     "output_type": "stream",
     "text": [
      "\n",
      "\n",
      " ---CatBoostClassifier Model---\n",
      "CatBoost AUC = 0.99\n",
      "              precision    recall  f1-score   support\n",
      "\n",
      "           0       0.99      0.99      0.99      2286\n",
      "           1       0.98      0.98      0.98       714\n",
      "\n",
      "    accuracy                           0.99      3000\n",
      "   macro avg       0.99      0.99      0.99      3000\n",
      "weighted avg       0.99      0.99      0.99      3000\n",
      "\n"
     ]
    }
   ],
   "source": [
    "# Create CatBoost classifier\n",
    "#cat_model = CatBoostClassifier(iterations=100, depth=6, learning_rate=0.1, loss_function='Logloss', eval_metric='Accuracy')\n",
    "\n",
    "from catboost import CatBoostClassifier, Pool\n",
    "\n",
    "cat_model = CatBoostClassifier(\n",
    "    iterations = 1000, # 1000 are ideal\n",
    "    loss_function='MultiClass',\n",
    "    bootstrap_type = \"Bayesian\",\n",
    "    eval_metric = 'MultiClass',\n",
    "    leaf_estimation_iterations = 100,\n",
    "    random_strength = 0.5,\n",
    "    depth = 7,\n",
    "    l2_leaf_reg = 5,\n",
    "    learning_rate=0.1,\n",
    "    bagging_temperature = 0.5,\n",
    "    thread_count=-1 # number of threads, setted all CPU cores\n",
    "    #task_type = \"GPU\",\n",
    ")\n",
    "\n",
    "# Train the model\n",
    "cat_model.fit(X_train, y_train, eval_set=(X_test, y_test), verbose=False)\n",
    "y_pred_cat = cat_model.predict(X_test)\n",
    "\n",
    "print (\"\\n\\n ---CatBoostClassifier Model---\")\n",
    "cat_roc_auc = roc_auc_score(y_test, y_pred_cat)\n",
    "print (\"CatBoost AUC = %2.2f\" % cat_roc_auc)\n",
    "print(classification_report(y_test, y_pred_cat))"
   ]
  },
  {
   "cell_type": "code",
   "execution_count": 212,
   "metadata": {},
   "outputs": [
    {
     "name": "stdout",
     "output_type": "stream",
     "text": [
      "CatBoostClassifier model:\n",
      "accuracy........:99.1%\n",
      "score...........:98.85\n",
      "Mean Absolute Error: 0.00867\n",
      "Area under curve (AUC): 99.41 %\n"
     ]
    }
   ],
   "source": [
    "metric_models('CatBoostClassifier', cat_model, X_test, y_test, y_pred_cat)"
   ]
  },
  {
   "cell_type": "code",
   "execution_count": 213,
   "metadata": {},
   "outputs": [
    {
     "name": "stdout",
     "output_type": "stream",
     "text": [
      "1 - feature: satisfaction, importance: 23.72 %\n",
      "2 - feature: evaluation, importance: 14.81 %\n",
      "3 - feature: projectCount, importance: 11.78 %\n",
      "4 - feature: averageMonthlyHours, importance: 16.01 %\n",
      "5 - feature: yearsAtCompany, importance: 17.65 %\n",
      "6 - feature: workAccident, importance: 3.29 %\n",
      "7 - feature: promotion, importance: 0.19 %\n",
      "8 - feature: dept, importance: 7.54 %\n",
      "9 - feature: salary, importance: 5.01 %\n"
     ]
    }
   ],
   "source": [
    "list_name_features = []\n",
    "index = 1\n",
    "\n",
    "for feat, importance in zip(X.columns, cat_model.feature_importances_):\n",
    "    importance = round(importance, 2)\n",
    "    print(f'{index} - feature: {feat}, importance: {importance} %')\n",
    "    list_name_features.append(feat)\n",
    "    index += 1"
   ]
  },
  {
   "cell_type": "code",
   "execution_count": 214,
   "metadata": {},
   "outputs": [
    {
     "name": "stdout",
     "output_type": "stream",
     "text": [
      "satisfaction.......: 23.72 %\n",
      "evaluation.......: 14.81 %\n",
      "projectCount.......: 11.78 %\n",
      "averageMonthlyHours.......: 16.01 %\n",
      "yearsAtCompany.......: 17.65 %\n",
      "workAccident.......: 3.29 %\n",
      "promotion.......: 0.19 %\n",
      "dept.......: 7.54 %\n",
      "salary.......: 5.01 %\n"
     ]
    }
   ],
   "source": [
    "list_feat_importances = list(cat_model.feature_importances_)\n",
    "dict_feat_importances = {}\n",
    "#\n",
    "i=0\n",
    "\n",
    "for ilist in list_name_features:\n",
    "    dict_feat_importances[ilist] = list_feat_importances[i] # porcentagem %\n",
    "    print(f\"{ilist}.......: {round(dict_feat_importances[ilist], 2)} %\")\n",
    "    i=i+1"
   ]
  },
  {
   "cell_type": "code",
   "execution_count": 215,
   "metadata": {},
   "outputs": [
    {
     "data": {
      "image/png": "[encoded data removed]",
      "text/plain": [
       "<Figure size 1500x500 with 1 Axes>"
      ]
     },
     "metadata": {},
     "output_type": "display_data"
    }
   ],
   "source": [
    "# feature importance\n",
    "plt.figure(figsize=(15,5))\n",
    "plt.bar(dict_feat_importances.keys(),dict_feat_importances.values(), width=.5, color='r')\n",
    "plt.ylim(0,100)\n",
    "plt.title(\"Feature Importance - XGBClassifier Model\")\n",
    "plt.ylabel(\"%\")\n",
    "plt.xlabel(\"Feature importance\")\n",
    "plt.xticks(rotation=35)\n",
    "plt.grid(color='gray', linestyle='dashed')\n",
    "plt.show()"
   ]
  },
  {
   "cell_type": "code",
   "execution_count": 216,
   "metadata": {},
   "outputs": [
    {
     "data": {
      "image/png": "[encoded data removed]",
      "text/plain": [
       "<Figure size 640x480 with 2 Axes>"
      ]
     },
     "metadata": {},
     "output_type": "display_data"
    }
   ],
   "source": [
    "plot_conf_matrix(y_test, y_pred_cat)"
   ]
  },
  {
   "cell_type": "code",
   "execution_count": 217,
   "metadata": {},
   "outputs": [
    {
     "name": "stdout",
     "output_type": "stream",
     "text": [
      "ter 12 dez 2023 17:34:59 -03\n"
     ]
    },
    {
     "data": {
      "text/plain": [
       "0"
      ]
     },
     "execution_count": 217,
     "metadata": {},
     "output_type": "execute_result"
    }
   ],
   "source": [
    "os.system('date')"
   ]
  }
 ],
 "metadata": {
  "kernelspec": {
   "display_name": "Python 3",
   "language": "python",
   "name": "python3"
  },
  "language_info": {
   "codemirror_mode": {
    "name": "ipython",
    "version": 3
   },
   "file_extension": ".py",
   "mimetype": "text/x-python",
   "name": "python",
   "nbconvert_exporter": "python",
   "pygments_lexer": "ipython3",
   "version": "3.8.10"
  }
 },
 "nbformat": 4,
 "nbformat_minor": 2
}
